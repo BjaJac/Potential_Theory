{
 "cells": [
  {
   "cell_type": "markdown",
   "id": "4c725936",
   "metadata": {},
   "source": [
    "---\n",
    "jupyter: \"python3\"\n",
    "---\n",
    "\n",
    "\n",
    "\n",
    "\n",
    "## Prerequisites {.unnumbered}\n",
    "\n",
    "Here are the lecture notes for the 2024/2025 module covering the **Theory of Potential Field Methods.** These notes are tailored for Master's students of Geophysics and Geoinformatics at the [Institute of Geophysics and Geoinformatics, TU Bergakademie Freiberg](https://tu-freiberg.de/geophysik).\n",
    "\n",
    "You can access all the materials on the GitHub repository <https://github.com/ruboerner/Potential_Theory>.\n",
    "\n",
    "Enjoy studying!\n",
    "\n",
    "## Background\n",
    "\n",
    "This course targets Master's students in their first semester, with a recommended understanding of fundamental potential field applications, such as Gravity, Magnetics, and DC resistivity methods. Additionally, prior completion of the Theoretical Physics -- Electrodynamics course is strongly advised as a prerequisite for this lecture.\n",
    "\n",
    "## Code\n",
    "\n",
    "The website's course material includes sections with embedded Python and Julia code.\n",
    "\n",
    "You can easily copy the code and execute it in a compatible Python or Julia runtime environment.\n",
    "\n",
    "For an optimal experience, we recommend installing Python via [miniconda](https://docs.anaconda.com/free/miniconda/index.html).\n",
    "\n",
    "Further, you may wish to install Julia via [this link](https://julialang.org).\n",
    "\n",
    "Moreover, you have the freedom to explore your own concepts and delve deeper into the course content by creating your personalized Jupyter notebooks. You can utilize any of the following platforms:\n",
    "\n",
    "-   [Visual Studio Code](https://code.visualstudio.com/)\n",
    "-   [Jupyterlab](https://jupyter.org)\n",
    "-   [Quarto](https://quarto.org).\n",
    "\n",
    "Working with Jupyter Notebooks in Visual Studio Code is [exceptionally straightforward](https://code.visualstudio.com/docs/datascience/jupyter-notebooks).\n",
    "\n",
    "## Self study\n",
    "\n",
    "There are individual small tasks for self-study that are scattered throughout the lecture.\n",
    "\n",
    "::: {.callout title=\"Self study\"}\n",
    "You can easily identify these callouts.\n",
    ":::\n",
    "\n",
    "## Recommended Reading\n",
    "\n",
    "The most important source of supplementary information is the book by @blakely1995.\n",
    "\n",
    "## License\n",
    "\n",
    "This material is licensed under a Creative Commons License."
   ]
  }
 ],
 "metadata": {
  "kernelspec": {
   "display_name": "Python 3 (ipykernel)",
   "language": "python",
   "name": "python3",
   "path": "/Users/rub/anaconda3/share/jupyter/kernels/python3"
  },
  "language_info": {
   "codemirror_mode": {
    "name": "ipython",
    "version": 3
   },
   "file_extension": ".py",
   "mimetype": "text/x-python",
   "name": "python",
   "nbconvert_exporter": "python",
   "pygments_lexer": "ipython3",
   "version": "3.11.9"
  }
 },
 "nbformat": 4,
 "nbformat_minor": 5
}
