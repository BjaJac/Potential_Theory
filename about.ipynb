{
  "cells": [
    {
      "cell_type": "raw",
      "metadata": {},
      "source": [
        "---\n",
        "title: About\n",
        "---"
      ],
      "id": "fa08c604"
    },
    {
      "cell_type": "markdown",
      "metadata": {},
      "source": [
        "About this site\n"
      ],
      "id": "a87bdd7e"
    },
    {
      "cell_type": "code",
      "metadata": {},
      "source": [
        "1 + 1"
      ],
      "id": "40944b9b",
      "execution_count": null,
      "outputs": []
    }
  ],
  "metadata": {
    "kernelspec": {
      "name": "julia-1.9",
      "language": "julia",
      "display_name": "Julia 1.9.1"
    }
  },
  "nbformat": 4,
  "nbformat_minor": 5
}