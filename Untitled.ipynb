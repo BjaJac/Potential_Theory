{
 "cells": [
  {
   "cell_type": "code",
   "execution_count": null,
   "id": "df7ca40c-bec0-4ffd-9ff3-ffaeb4dd7d59",
   "metadata": {},
   "outputs": [],
   "source": []
  }
 ],
 "metadata": {
  "kernelspec": {
   "display_name": "MKernel",
   "language": "matlab",
   "name": "mkernel"
  },
  "language_info": {
   "name": ""
  }
 },
 "nbformat": 4,
 "nbformat_minor": 5
}
