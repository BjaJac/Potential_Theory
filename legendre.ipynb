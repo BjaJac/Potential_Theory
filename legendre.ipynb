{
  "cells": [
    {
      "cell_type": "raw",
      "metadata": {},
      "source": [
        "---\n",
        "title: Legendre Polynomials\n",
        "---"
      ],
      "id": "06ea865f"
    },
    {
      "cell_type": "code",
      "metadata": {},
      "source": [
        "cos(pi)"
      ],
      "id": "ae10548d",
      "execution_count": null,
      "outputs": []
    }
  ],
  "metadata": {
    "kernelspec": {
      "name": "mkernel",
      "language": "matlab",
      "display_name": "MKernel"
    }
  },
  "nbformat": 4,
  "nbformat_minor": 5
}