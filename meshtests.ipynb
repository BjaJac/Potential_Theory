{
 "cells": [
  {
   "cell_type": "code",
   "execution_count": 1,
   "id": "ee74207a-7fa3-4d4b-ba9c-48ba04a428ae",
   "metadata": {},
   "outputs": [],
   "source": [
    "import numpy as np\n",
    "import pygimli as pg\n",
    "from pygimli import meshtools as mt # import a module \n",
    "from pygimli.viewer import showMesh"
   ]
  },
  {
   "cell_type": "code",
   "execution_count": null,
   "id": "c4d43240-830c-4606-a9ca-9ac050232d5f",
   "metadata": {},
   "outputs": [],
   "source": []
  },
  {
   "cell_type": "code",
   "execution_count": 2,
   "id": "2185b078-ca22-4eeb-9a40-8ce5238babab",
   "metadata": {},
   "outputs": [],
   "source": [
    "world = mt.createWorld(start=[-1, -1], end=[1, 1], \n",
    "                       worldMarker=False)"
   ]
  },
  {
   "cell_type": "code",
   "execution_count": 3,
   "id": "5f68707a-047c-4a55-8260-d922e17fac41",
   "metadata": {},
   "outputs": [],
   "source": [
    "mesh = mt.createMesh(world, area=0.5, quality=33)"
   ]
  },
  {
   "cell_type": "code",
   "execution_count": 4,
   "id": "26579ec9-1435-495f-9499-153d850a7663",
   "metadata": {},
   "outputs": [
    {
     "data": {
      "text/plain": [
       "(<Axes: >, <matplotlib.colorbar.Colorbar at 0x11fdbaad0>)"
      ]
     },
     "execution_count": 4,
     "metadata": {},
     "output_type": "execute_result"
    },
    {
     "data": {
      "image/png": "[encoded data removed]",
      "text/plain": [
       "<Figure size 640x480 with 2 Axes>"
      ]
     },
     "metadata": {},
     "output_type": "display_data"
    }
   ],
   "source": [
    "showMesh(mesh, boundaryMarkers=True, showBoundary=True, showMesh=True,\n",
    "         markers=True)"
   ]
  },
  {
   "cell_type": "code",
   "execution_count": 5,
   "id": "05f87683-ebe1-4688-acb0-20c7fd66bbb2",
   "metadata": {},
   "outputs": [
    {
     "name": "stdout",
     "output_type": "stream",
     "text": [
      "0 : Nodes: 2 [7, 3] 1 : Nodes: 2 [3, 4] 0 7\n",
      "2 : Nodes: 2 [4, 7] 0 6\n",
      "3 : Nodes: 2 [5, 1] 4 : Nodes: 2 [1, 4] 1 4\n",
      "5 : Nodes: 2 [4, 5] 1 3\n",
      "6 : Nodes: 2 [4, 8] 2 7\n",
      "7 : Nodes: 2 [8, 0] 8 : Nodes: 2 [0, 4] 2 3\n",
      "9 : Nodes: 2 [0, 5] 10 : Nodes: 2 [1, 6] 11 : Nodes: 2 [6, 4] 4 5\n",
      "12 : Nodes: 2 [6, 2] 13 : Nodes: 2 [2, 4] 5 6\n",
      "14 : Nodes: 2 [2, 7] 15 : Nodes: 2 [3, 8] "
     ]
    }
   ],
   "source": [
    "for b in mesh.boundaries():\n",
    "    print(b.id(), \": Nodes:\", b.ids(), end=\" \")\n",
    "    if not b.outside():\n",
    "        left = b.leftCell()\n",
    "        right = b.rightCell()\n",
    "        print(left.id(), right.id())"
   ]
  },
  {
   "cell_type": "code",
   "execution_count": 6,
   "id": "d8893223-6853-47af-8d00-b8bf4326182c",
   "metadata": {},
   "outputs": [
    {
     "name": "stdout",
     "output_type": "stream",
     "text": [
      "0 1.0 0.0\n",
      "3 -1.0 0.0\n",
      "7 0.0 1.0\n",
      "9 -1.0 1.0\n",
      "10 -1.0 -1.0\n",
      "12 0.0 -1.0\n",
      "14 1.0 -1.0\n",
      "15 1.0 1.0\n"
     ]
    }
   ],
   "source": [
    "for b in mesh.boundaries():\n",
    "    if b.outside():\n",
    "        print(b.id(), b.node(0).pos()[0], b.node(0).pos()[1])"
   ]
  },
  {
   "cell_type": "code",
   "execution_count": 7,
   "id": "c95c0e3c-8a24-4fec-8ef4-a676f69ee99c",
   "metadata": {},
   "outputs": [
    {
     "data": {
      "text/plain": [
       "[[0, 5, 1]]"
      ]
     },
     "execution_count": 7,
     "metadata": {},
     "output_type": "execute_result"
    }
   ],
   "source": [
    "bs = mesh.findBoundaryByMarker(1)\n",
    "paths = mesh.findPaths(bs)\n",
    "\n",
    "paths"
   ]
  },
  {
   "cell_type": "code",
   "execution_count": 8,
   "id": "6d12b99e-b02b-46c7-be99-a705a4b4e78b",
   "metadata": {},
   "outputs": [
    {
     "name": "stdout",
     "output_type": "stream",
     "text": [
      "\tID: 7, Marker: 2\tRVector3: (1.0, 0.0, 0.0)\n",
      "\n",
      "\tID: 5, Marker: 1\tRVector3: (-1.0, 0.0, 0.0)\n",
      "\n",
      "\tID: 8, Marker: 4\tRVector3: (0.0, 1.0, 0.0)\n",
      "\n",
      "\tID: 0, Marker: 1\tRVector3: (-1.0, 1.0, 0.0)\n",
      "\n",
      "\tID: 1, Marker: 1\tRVector3: (-1.0, -1.0, 0.0)\n",
      "\n",
      "\tID: 6, Marker: 3\tRVector3: (0.0, -1.0, 0.0)\n",
      "\n",
      "\tID: 2, Marker: 3\tRVector3: (1.0, -1.0, 0.0)\n",
      "\n",
      "\tID: 3, Marker: 2\tRVector3: (1.0, 1.0, 0.0)\n",
      "\n"
     ]
    }
   ],
   "source": [
    "for b in mesh.boundaries():\n",
    "    if b.outside():\n",
    "        print(b.nodes()[0])"
   ]
  },
  {
   "cell_type": "code",
   "execution_count": 9,
   "id": "c4906dcb-93f3-4fd0-9c91-6a26237a9a85",
   "metadata": {},
   "outputs": [
    {
     "data": {
      "text/plain": [
       "\tID: 3, Marker: 2\tRVector3: (1.0, 1.0, 0.0)"
      ]
     },
     "execution_count": 9,
     "metadata": {},
     "output_type": "execute_result"
    }
   ],
   "source": [
    "b.nodes()[0]"
   ]
  },
  {
   "cell_type": "code",
   "execution_count": 10,
   "id": "fb858315-ef38-4b7d-8650-7abc79ad66f7",
   "metadata": {},
   "outputs": [
    {
     "name": "stdout",
     "output_type": "stream",
     "text": [
      "<pgcore._pygimli_.Edge object at 0x13a048f90>\tID: 3, Marker: 1, Size: 1.0\n",
      "\t5 RVector3: (-1.0, 0.0, 0.0)\n",
      "\t1 RVector3: (-1.0, -1.0, 0.0)\n",
      "\n",
      "RVector3: (-1.0, -0.5, 0.0)\n",
      "<pgcore._pygimli_.Edge object at 0x13a049150>\tID: 9, Marker: 1, Size: 1.0\n",
      "\t0 RVector3: (-1.0, 1.0, 0.0)\n",
      "\t5 RVector3: (-1.0, 0.0, 0.0)\n",
      "\n",
      "RVector3: (-1.0, 0.5, 0.0)\n"
     ]
    }
   ],
   "source": [
    "for b in mesh.findBoundaryByMarker(1):\n",
    "    print(b)\n",
    "    print(b.center())"
   ]
  },
  {
   "cell_type": "code",
   "execution_count": 11,
   "id": "8a6f8c1b-04b4-4d20-be52-448563433837",
   "metadata": {},
   "outputs": [
    {
     "data": {
      "text/plain": [
       "1"
      ]
     },
     "execution_count": 11,
     "metadata": {},
     "output_type": "execute_result"
    }
   ],
   "source": [
    "b.marker()"
   ]
  },
  {
   "cell_type": "code",
   "execution_count": 12,
   "id": "bd5cbeac-a282-4881-bc72-db38391aced0",
   "metadata": {},
   "outputs": [
    {
     "data": {
      "text/plain": [
       "[\tID: 0, Marker: 1\tRVector3: (-1.0, 1.0, 0.0),\n",
       " \tID: 5, Marker: 1\tRVector3: (-1.0, 0.0, 0.0)]"
      ]
     },
     "execution_count": 12,
     "metadata": {},
     "output_type": "execute_result"
    }
   ],
   "source": [
    "b.nodes()[::]"
   ]
  },
  {
   "cell_type": "code",
   "execution_count": 13,
   "id": "b36d75b6-98ba-404f-92d2-b56219c0d2fa",
   "metadata": {},
   "outputs": [
    {
     "data": {
      "text/plain": [
       "RVector3: (-1.0, 0.5, 0.0)"
      ]
     },
     "execution_count": 13,
     "metadata": {},
     "output_type": "execute_result"
    }
   ],
   "source": [
    "b.center()"
   ]
  },
  {
   "cell_type": "code",
   "execution_count": 14,
   "id": "1d3e81bf-13f6-488e-8ee4-d39d45b2c4ea",
   "metadata": {},
   "outputs": [
    {
     "data": {
      "text/plain": [
       "2"
      ]
     },
     "execution_count": 14,
     "metadata": {},
     "output_type": "execute_result"
    }
   ],
   "source": [
    "b.allNodeCount()"
   ]
  },
  {
   "cell_type": "code",
   "execution_count": 20,
   "id": "2829fd18-cd14-4ee5-82b6-30585191398e",
   "metadata": {},
   "outputs": [
    {
     "name": "stdout",
     "output_type": "stream",
     "text": [
      "0\n",
      "1\n",
      "5\n"
     ]
    }
   ],
   "source": [
    "n = mesh.findNodesIdxByMarker(1)\n",
    "for i in n:\n",
    "    print(mesh.node(i).id())"
   ]
  },
  {
   "cell_type": "code",
   "execution_count": 16,
   "id": "1594b6cb-5086-4851-aeff-093e4da523c4",
   "metadata": {},
   "outputs": [
    {
     "data": {
      "text/plain": [
       "3 [0, 1, 5]"
      ]
     },
     "execution_count": 16,
     "metadata": {},
     "output_type": "execute_result"
    }
   ],
   "source": [
    "mesh.findNodesIdxByMarker(1)"
   ]
  },
  {
   "cell_type": "code",
   "execution_count": 21,
   "id": "d7e6dbb1-183a-4285-a938-0a0808cdfd3c",
   "metadata": {},
   "outputs": [
    {
     "name": "stdout",
     "output_type": "stream",
     "text": [
      "-1.0\n",
      "-1.0\n",
      "1.0\n",
      "1.0\n",
      "0.0\n",
      "-1.0\n",
      "0.0\n",
      "1.0\n",
      "0.0\n"
     ]
    }
   ],
   "source": [
    "for n in mesh.nodes():\n",
    "        print(n.x())"
   ]
  },
  {
   "cell_type": "code",
   "execution_count": null,
   "id": "d971b962-1a0a-4941-811b-0e766a2f6077",
   "metadata": {},
   "outputs": [],
   "source": []
  }
 ],
 "metadata": {
  "kernelspec": {
   "display_name": "pg15",
   "language": "python",
   "name": "pg15"
  },
  "language_info": {
   "codemirror_mode": {
    "name": "ipython",
    "version": 3
   },
   "file_extension": ".py",
   "mimetype": "text/x-python",
   "name": "python",
   "nbconvert_exporter": "python",
   "pygments_lexer": "ipython3",
   "version": "3.11.8"
  }
 },
 "nbformat": 4,
 "nbformat_minor": 5
}
