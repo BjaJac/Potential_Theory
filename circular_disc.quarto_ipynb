{
  "cells": [
    {
      "cell_type": "markdown",
      "metadata": {},
      "source": [
        "---\n",
        "title: \"Circular Disc\"\n",
        "jupyter: python3\n",
        "---\n",
        "\n",
        "We consider the potential and gravitational attraction of a circular disc in  the plane $z=0$ aligned with the z axis.\n",
        "\n",
        "\n",
        "![A circular disc of radius $a$ aligned with the axis $z=0$.](images/circular_disc.excalidraw.png){#fig-circulardisc}\n",
        "\n",
        "## Potential along the z axis\n",
        "\n",
        "To obtain the potential at the $z$-axis we integrate over the surface area of the disc:\n",
        "$$\n",
        "V(z) = -f \\frac{m}{r} = -2 \\pi f \\rho_F \\int\\limits_{r=0}^a \\frac{r \\, \\dd r}{\\sqrt{ r^2 + z^2 }} \n",
        "$$\n",
        "with $r^2 = x^2 + y^2$.\n",
        "\n",
        "Integration yields:\n",
        "$$\n",
        "V(z) = 2 \\pi f (|z| - \\sqrt{ a^2 + z^2 })\n",
        "$$\n",
        "\n",
        "Sympy check:\n"
      ],
      "id": "fb1cf82e"
    },
    {
      "cell_type": "code",
      "metadata": {},
      "source": [
        "import sympy as sp\n",
        "from sympy import pi, oo\n",
        "x, y, z = sp.symbols('x y z', real=True)\n",
        "r, f, a, rho = sp.symbols('r f a rho_F', real=True, positive=True)\n",
        "\n",
        "V = sp.integrate(-2 * pi * f *rho * r / sp.sqrt(r**2 + z**2), (r, 0, a))\n",
        "V.simplify()"
      ],
      "id": "3af5e80e",
      "execution_count": null,
      "outputs": []
    },
    {
      "cell_type": "code",
      "metadata": {},
      "source": [
        "#| label: fig-V-plot\n",
        "#| fig-cap: Potential of a circular disc of radius $a$ at $z=0$.\n",
        "import numpy as np\n",
        "import matplotlib.pyplot as plt\n",
        "\n",
        "zz = np.linspace(-5, 5, 400)\n",
        "fig, ax = plt.subplots(figsize=(6,4))\n",
        "plt.scatter(zz, np.abs(zz) - np.sqrt(1 + zz**2),s=3)\n",
        "plt.grid(True)\n",
        "plt.xlabel('z')\n",
        "plt.ylabel('V(z)');"
      ],
      "id": "fig-V-plot",
      "execution_count": null,
      "outputs": []
    },
    {
      "cell_type": "markdown",
      "metadata": {},
      "source": [
        "## Gravitational attraction along the z axis\n",
        "\n",
        "The vertical component of the gravitational attraction is the projection of the field $\\vb g$ onto the vertical direction $\\hat{\\vb e}_z$\n",
        "\n",
        "$$\n",
        "\\vb g(z) = -\\grad V(z)\n",
        "$$\n",
        "\n",
        "$$\n",
        "-\\grad V(z) \\cdot \\hat{\\vb e}_z = -\\pdv{}{z}V(z) = 2 \\pi f \\rho_F \\left( \\frac{z}{\\sqrt{ a^2 + z^2 }} - \\text{sign}(z) \\right)\n",
        "$$\n",
        "\n",
        "This is the attraction of a disc of density $\\rho_{F}$ aligned with the plane $z=0$ observed at some point at the $z$ axis.\n",
        "\n",
        "Sympy check:"
      ],
      "id": "c37832be"
    },
    {
      "cell_type": "code",
      "metadata": {},
      "source": [
        "g = -sp.diff(V, z)\n",
        "g"
      ],
      "id": "0d5d53af",
      "execution_count": null,
      "outputs": []
    },
    {
      "cell_type": "markdown",
      "metadata": {},
      "source": [
        "::: {.callout-note}\n",
        "Note that \n",
        "\n",
        "$$\n",
        "\\dv{|z|}{z} = \\text{sign}z.\n",
        "$$\n",
        ":::\n"
      ],
      "id": "d430a5e9"
    },
    {
      "cell_type": "code",
      "metadata": {},
      "source": [
        "#| label: fig-g-plot\n",
        "#| fig-cap: Vertical attraction of a circular disc of radius $a$ coplanar with $z=0$.\n",
        "fig, ax = plt.subplots(figsize=(6,4))\n",
        "plt.scatter(zz, 2 * np.pi * (zz / np.sqrt(1 + zz**2) - np.sign(zz)),s=3)\n",
        "plt.xlabel('z')\n",
        "plt.ylabel('g(z)')\n",
        "plt.grid(True);"
      ],
      "id": "fig-g-plot",
      "execution_count": null,
      "outputs": []
    },
    {
      "cell_type": "markdown",
      "metadata": {},
      "source": [
        "The vertical component of the gravitational attraction obviously has a jump, which equals $4 \\pi f \\rho_F$."
      ],
      "id": "0d8c003a"
    },
    {
      "cell_type": "code",
      "metadata": {},
      "source": [
        "sp.limit(g, z, 0, '-') - sp.limit(g, z, 0, '+')"
      ],
      "id": "ce301207",
      "execution_count": null,
      "outputs": []
    },
    {
      "cell_type": "markdown",
      "metadata": {},
      "source": [
        "## Potential and attraction of a vertical cylinder\n",
        "\n",
        "The cylinder is composed of circular discs with infinitely small thickness and constant radius $a$. The integration of an aligned stack of such discs yields a cylinder.\n",
        "\n",
        "![A co-axial stack of circular discs from $z=$ to $z=h$ forming a vertical cylinder of length $h$.](images/vertical_cylinder.excalidraw.png){#fig-vertical-cylinder}\n",
        "\n",
        "We note that\n",
        "\n",
        "$$\n",
        "\\rho = \\int_0^h \\rho_F \\, \\dd z.\n",
        "$$\n",
        "\n",
        "We integrate over the attraction for circular discs and obtain for a cylinder enclosed by the two horizontal planes $z=0$ and $z=h, h>0$:\n",
        "$$\n",
        "\\begin{align}\n",
        "g(z) & = 2 \\pi f \\rho \\left(h + \\sqrt{ a^2 + z^2 } - \\sqrt{ a^2 + (h - z)^{2} }\\right) \\qfor z < 0 \\\\\n",
        "& = 2 \\pi f \\rho \\left(h - 2z + \\sqrt{ a^{2} + z^{2}} - \\sqrt{ a^2 + (h-z)^{2} }\\right) \\qfor h > z \\\\\n",
        "& = 2 \\pi f \\rho \\left(-h + \\sqrt{ a^2 + z^2 } - \\sqrt{ a^2 + (h - z)^{2} }\\right) \\quad\\text{otherwise}\n",
        "\\end{align}\n",
        "$$\n",
        "\n",
        "Sympy check:"
      ],
      "id": "a5ce7847"
    },
    {
      "cell_type": "code",
      "metadata": {},
      "source": [
        "h = sp.symbols('h', real=True, positive=True)\n",
        "rho0 = sp.symbols('rho', real=True, positive=True)\n",
        "i1 = sp.integrate(-g, z).subs(rho, rho0)\n",
        "sp.simplify(i1.subs(z, z-h) - i1.subs(z, z-0))"
      ],
      "id": "8515b7a5",
      "execution_count": null,
      "outputs": []
    },
    {
      "cell_type": "code",
      "metadata": {},
      "source": [
        "hh = 1.0\n",
        "zabove = np.linspace(-5, 0, 51)\n",
        "zinside = np.linspace(0, hh, 51)\n",
        "zbelow = np.linspace(hh, 6, 51)\n",
        "fig, ax = plt.subplots(figsize=(6,4))\n",
        "plt.plot(zabove, \n",
        "         2*np.pi*(hh + np.sqrt(1+zabove**2) - \n",
        "                  np.sqrt(1 + (hh - zabove)**2)),c='C0',\n",
        "        label=r'z<0')\n",
        "plt.plot(zinside, \n",
        "        2*np.pi*(hh - 2 * zinside + np.sqrt(1+zinside**2) - \n",
        "                 np.sqrt(1 + (hh - zinside)**2)),c='C1',\n",
        "        label=r'0<z<h')\n",
        "plt.plot(zbelow, \n",
        "         2*np.pi*(-hh + np.sqrt(1+zbelow**2) - \n",
        "                  np.sqrt(1 + (hh - zbelow)**2)),c='C2',\n",
        "        label=r'z>h')\n",
        "plt.axvspan(0, hh, facecolor='b', alpha=0.1)\n",
        "plt.xlabel('z')\n",
        "plt.ylabel('g(z)')\n",
        "plt.legend()\n",
        "plt.grid(True);"
      ],
      "id": "8cfde867",
      "execution_count": null,
      "outputs": []
    },
    {
      "cell_type": "markdown",
      "metadata": {},
      "source": [
        "## Bouguer plate anomaly\n",
        "\n",
        "Consider the solution for $z<0$. What happens to $g(z)$ when $a$ goes to infinity, i.e., the cylinder turns into an infinite horizontal plate?\n",
        "We depart from the first of the above equations. In $z<0$ we have\n",
        "$$\n",
        "g(z) = 2 \\pi f \\rho \\left( h + \\sqrt{ a^2 + z^2 } - \\sqrt{ a^2 + (h - z)^2 }\\right)\n",
        "$$\n",
        "For $a \\to \\infty$ we can expand the square root into a series, e.g.\n",
        "$$\n",
        "\\sqrt{ a^2 + z^2 } = a \\sqrt{ 1 + \\frac{z^2}{a^2} } \\approx a \\left( 1 + \\frac{z^2}{2a^2} - \\dots\\right)\n",
        "$$\n",
        "and\n",
        "$$\n",
        "\\sqrt{ a^2 + (h-z)^2 } = a \\sqrt{ 1 + \\frac{(h-z)^2}{a^2} } \\approx a \\left( 1 + \\frac{(h-z)^2}{2a^2} - \\dots\\right)\n",
        "$$\n",
        "After collecting terms we have\n",
        "$$\n",
        "g(z) = 2 \\pi f \\rho \\left(h +  a \\left[ 1 + \\frac{z^2}{2a^2} - 1 - \\frac{(h-z)^2}{a^2}\\right]\\right) \\approx 2 \\pi f \\rho_{F}h\n",
        "$$\n",
        "This is the well-known equation for the vertical attraction above an infinite horozontal plate of thickness $h$ and density $\\rho$  (Bouguer plate anomaly)\n",
        "\n",
        "$$\n",
        "g_B(h) =  2 \\pi f \\rho h\n",
        "$$ "
      ],
      "id": "43c069c1"
    }
  ],
  "metadata": {
    "kernelspec": {
      "name": "python3",
      "language": "python",
      "display_name": "Python 3 (ipykernel)",
      "path": "/Users/rub/miniforge3/share/jupyter/kernels/python3"
    }
  },
  "nbformat": 4,
  "nbformat_minor": 5
}